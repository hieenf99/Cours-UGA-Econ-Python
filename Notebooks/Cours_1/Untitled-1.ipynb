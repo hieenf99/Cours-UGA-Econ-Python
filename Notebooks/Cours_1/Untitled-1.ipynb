{
 "cells": [
  {
   "cell_type": "markdown",
   "metadata": {},
   "source": [
    "# CÚ PHÁP CƠ BẢN\n",
    "## BÔI ĐẬM IN NGHIÊN VÀ GẠCH NGANG\n",
    "\n",
    "Kẹp một từ ở đầu và cuối bằng 1 ký tự * để *in nghiêng*, 2 ký tự * để **in đậm** và 3 ký tự * để ***vừa in đậm vừa in nghiêng***.\n",
    "Ngoài ra, chữ có thể bị ~~gạch ngang~~ nhờ vào 2 dấu ~.\n",
    "\n",
    "## LINK\n",
    "Viết link trong **markdown** bằng cách cho nội dung vào trong *ngoặc vuông* [] và cho link vào trong *ngoặc đơn* (). \n",
    "\n",
    "[Cú pháp Markdown căn bản](https://hoclaptrinh.vn/postsmarkdown-la-gi-cu-phap-markdown-co-ban)\n",
    "\n",
    "## HÌNH ẢNH\n",
    "Chèn hình ảnh trong markdown chỉ khác với chèn link đôi chút. \n",
    "**Đầu tiên**, bạn thêm ký tự *dấu chấm than* !,\n",
    "**sau đó**, chèn link ảnh với cách làm tương tự như chèn link.\n",
    "\n",
    "![Logo Python](https://images.app.goo.gl/TLM4tZm9gzw7McY26)\n",
    "![Ảnh bé Hiền](https://scontent.flyn1-1.fna.fbcdn.net/v/t1.15752-9/313869482_656881519221373_248173179357135399_n.jpg?_nc_cat=104&ccb=1-7&_nc_sid=ae9488&_nc_ohc=gkB01f1HhyEAX-ME4A3&_nc_ht=scontent.flyn1-1.fna&oh=03_AdT1cUdEUX7B_4GPtvLrg8OlwPwVui2X9wzMw8HF2vOMyQ&oe=63946C1F \"Ảnh đi biển\")\n",
    "\n",
    "***Hoặc***\n",
    "![Ảnh bé Hiền][C:\\Users\\dieuh\\OneDrive\\Desktop\\ảnh_đi_biển.jpg]\n",
    "\n",
    "## ĐỊNH DẠNG DANH SÁCH\n",
    "1. Để định dạng một đoạn văn bản thành các gạch đầu dòng trong markdown, bạn dùng ký tự * và một dấu cách ở mỗi ý.\n",
    "\n",
    "2. Nếu muốn lùi vào một level, bạn chỉ cần thêm 2 dấu cách ở đằng trước dấu * đó.\n",
    "3. Viết số và một dấu chấm nếu *muốn dùng số để đánnh dấu*\n",
    "\n",
    "***Ví dụ***\n",
    "* Ý chính 1\n",
    "*  Ý chính 2\n",
    "  * Ý phụ 1\n",
    "  * Ý phụ 2\n",
    "    * Ý phụ phụ 1\n",
    "    * Ý phụ phụ 2\n",
    "  * Ý phụ 3\n",
    "  * Ý phụ 4\n",
    "    * Ý phụ phụ 1\n",
    "    * Ý phụ phụ 2\n",
    "\n",
    "## TRÍCH DẪN\n",
    "Cách viết một trích dẫn giống hệt khi bạn vẫn trả lời bình luận hay dẫn chứng trong các diễn đàn: ***sử dụng ký tự >***\n",
    "\n",
    "> Phải chăng em đã yêu ngay từ cái nhìn đầu tiên, phải chăng em đã say ngay từ lúc thấy nụ cười ấy.\n",
    "\n",
    "## ESCAPE \n",
    "Sẽ có những lúc bạn cần dùng đến đúng những ký tự mà Markdown đang sử dụng, ví dụ đơn giản như khi muốn viết *bold* mà không bị in đậm. Khi đó hãy sử dụng ký tự escape \\\n",
    "\n",
    "***Ví dụ***\n",
    "> Kẹp một từ ở đầu và cuối bằng 1 ký tự * để \\*in nghiêng\\*, 2 ký tự * để \\*\\*in đậm\\*\\* và 3 ký tự * để \\*\\*\\*vừa in đậm vừa in nghiêng\\*\\*\\*.\n",
    "\n",
    "> Ngoài ra, chữ có thể bị \\~~gạch ngang\\~~ nhờ vào 2 dấu ~.\n",
    "\n",
    "\n",
    "\n",
    "  "
   ]
  },
  {
   "cell_type": "markdown",
   "metadata": {},
   "source": [
    "## <center> COURS 0 :\n",
    "## <center> QUELQUES EXEMPLES INTRODUCTIFS\n",
    "#### <center>Michal Urdanivia (UGA)\n",
    "#### <center> michal.wong-urdanivia@univ-grenoble-alpes.fr"
   ]
  },
  {
   "cell_type": "code",
   "execution_count": null,
   "metadata": {},
   "outputs": [],
   "source": [
    "# behienmap = 10\n",
    "behienratmap = 20\n",
    "print(behienmap)"
   ]
  }
 ],
 "metadata": {
  "kernelspec": {
   "display_name": "Python 3 (ipykernel)",
   "language": "python",
   "name": "python3"
  },
  "language_info": {
   "codemirror_mode": {
    "name": "ipython",
    "version": 3
   },
   "file_extension": ".py",
   "mimetype": "text/x-python",
   "name": "python",
   "nbconvert_exporter": "python",
   "pygments_lexer": "ipython3",
   "version": "3.10.6"
  },
  "vscode": {
   "interpreter": {
    "hash": "79582aae0486951d69e91f7a5f05887df6e3eec7cf4ba49de7570777752eed2c"
   }
  }
 },
 "nbformat": 4,
 "nbformat_minor": 2
}
