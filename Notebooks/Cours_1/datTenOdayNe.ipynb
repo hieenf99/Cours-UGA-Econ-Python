{
 "cells": [
  {
   "cell_type": "markdown",
   "metadata": {},
   "source": [
    "# <center> Types anomiques: </center>\n",
    "### 1. **Entiers**, *int*"
   ]
  },
  {
   "cell_type": "code",
   "execution_count": 41,
   "metadata": {},
   "outputs": [
    {
     "name": "stdout",
     "output_type": "stream",
     "text": [
      "1\n",
      "le type du x est <class 'int'>\n"
     ]
    }
   ],
   "source": [
    "x = 1\n",
    "print(x)\n",
    "print(f'le type du x est {type(x)}')"
   ]
  },
  {
   "cell_type": "markdown",
   "metadata": {},
   "source": [
    "### 2. **Décimaux/Nombre flottants**, *float*"
   ]
  },
  {
   "cell_type": "code",
   "execution_count": 2,
   "metadata": {},
   "outputs": [
    {
     "name": "stdout",
     "output_type": "stream",
     "text": [
      "1.2\n",
      "<class 'float'>\n"
     ]
    }
   ],
   "source": [
    "x = 1.2\n",
    "print(x)\n",
    "print(type(x))"
   ]
  },
  {
   "cell_type": "markdown",
   "metadata": {},
   "source": [
    "### 3. **Chaîne de caractère**, *str*"
   ]
  },
  {
   "cell_type": "code",
   "execution_count": 7,
   "metadata": {},
   "outputs": [
    {
     "name": "stdout",
     "output_type": "stream",
     "text": [
      "Hien <class 'str'>\n"
     ]
    }
   ],
   "source": [
    "x = 'Hien'\n",
    "print(x,type(x))"
   ]
  },
  {
   "cell_type": "markdown",
   "metadata": {},
   "source": [
    "### 4. ***Booléens**, *bool*"
   ]
  },
  {
   "cell_type": "code",
   "execution_count": 6,
   "metadata": {},
   "outputs": [
    {
     "name": "stdout",
     "output_type": "stream",
     "text": [
      "True <class 'bool'>\n"
     ]
    }
   ],
   "source": [
    "x = True\n",
    "print(x,type(x))"
   ]
  },
  {
   "cell_type": "markdown",
   "metadata": {},
   "source": [
    "## Conversion des types:"
   ]
  },
  {
   "cell_type": "markdown",
   "metadata": {},
   "source": [
    "Dans presque certains cas, les objets d'un type donné peuvent être convertis en un autre type.\n",
    "\n",
    "Ci-dessous seront quelques cas:"
   ]
  },
  {
   "cell_type": "markdown",
   "metadata": {},
   "source": [
    "### 1. **float** au **int**"
   ]
  },
  {
   "cell_type": "code",
   "execution_count": 8,
   "metadata": {},
   "outputs": [
    {
     "name": "stdout",
     "output_type": "stream",
     "text": [
      "1 <class 'int'>\n"
     ]
    }
   ],
   "source": [
    "x = 1.5\n",
    "y = int(x)  # la valeur a été créé à partir de $x$\n",
    "            # donner la valeur y = 1\n",
    "\n",
    "print(y, type(y))\n"
   ]
  },
  {
   "cell_type": "markdown",
   "metadata": {},
   "source": [
    "### 2. **float** au **str**"
   ]
  },
  {
   "cell_type": "code",
   "execution_count": 9,
   "metadata": {},
   "outputs": [
    {
     "name": "stdout",
     "output_type": "stream",
     "text": [
      "1.5 <class 'float'>\n"
     ]
    }
   ],
   "source": [
    "x = 1.5\n",
    "y = str(x)\n",
    "\n",
    "print(y, type(x))"
   ]
  },
  {
   "cell_type": "markdown",
   "metadata": {},
   "source": [
    "### 3. **bool** en **int**"
   ]
  },
  {
   "cell_type": "code",
   "execution_count": 14,
   "metadata": {},
   "outputs": [
    {
     "name": "stdout",
     "output_type": "stream",
     "text": [
      "peut être fait, le résultat est\n",
      "1 <class 'int'>\n"
     ]
    }
   ],
   "source": [
    "x = True\n",
    "\n",
    "try: \n",
    "    y = int(x)\n",
    "    print('peut être fait, le résultat est')\n",
    "    print(y, type(y))\n",
    "except: \n",
    "    print('ne peut pax être fait')"
   ]
  },
  {
   "cell_type": "code",
   "execution_count": 43,
   "metadata": {},
   "outputs": [
    {
     "name": "stdout",
     "output_type": "stream",
     "text": [
      "peut être fait, le résultat est <class 'int'>\n",
      "1 <class 'int'>\n"
     ]
    }
   ],
   "source": [
    "x = True\n",
    "\n",
    "try: \n",
    "    y = int(x)\n",
    "    print(f'peut être fait, le résultat est {type(y)}')\n",
    "    print(y, type(y))\n",
    "except: \n",
    "    print('ne peut pax être fait')"
   ]
  },
  {
   "cell_type": "markdown",
   "metadata": {},
   "source": []
  },
  {
   "cell_type": "markdown",
   "metadata": {},
   "source": [
    "### 4. **Exception**"
   ]
  },
  {
   "cell_type": "markdown",
   "metadata": {},
   "source": [
    "Il n'est pas possible de converser **str** au **int**"
   ]
  },
  {
   "cell_type": "code",
   "execution_count": 11,
   "metadata": {},
   "outputs": [
    {
     "name": "stdout",
     "output_type": "stream",
     "text": [
      "ne peut pas être fait, parceque:\n",
      "Hien <class 'str'>\n"
     ]
    }
   ],
   "source": [
    "x = 'Hien'\n",
    "\n",
    "try: \n",
    "    y = int(x)\n",
    "    print('peut être fait')\n",
    "    print(y, type(y))\n",
    "except:\n",
    "    print('ne peut pas être fait, parceque:')\n",
    "    print(x, type(x))\n"
   ]
  },
  {
   "cell_type": "markdown",
   "metadata": {},
   "source": [
    "## Opérateurs/Combiner les variables (+ - / *)"
   ]
  },
  {
   "cell_type": "markdown",
   "metadata": {},
   "source": [
    "### 1. **Opérateurs entre les entiers** (int)"
   ]
  },
  {
   "cell_type": "code",
   "execution_count": 31,
   "metadata": {},
   "outputs": [
    {
     "name": "stdout",
     "output_type": "stream",
     "text": [
      "9 4 13\n",
      "9 4 5\n",
      "9 4 36\n",
      "9 4 2.25\n",
      "9 4 2\n"
     ]
    }
   ],
   "source": [
    "x = 9\n",
    "y = 4\n",
    "\n",
    "print(x, y, x+y)\n",
    "print(x, y, x-y)\n",
    "print(x, y, x*y)\n",
    "\n",
    "print(x, y, x/y)       #division\n",
    "print(x, y, x//y)      #division entière"
   ]
  },
  {
   "cell_type": "markdown",
   "metadata": {},
   "source": [
    "### 2. **Opérateur(+)/Concaténation entre les chaînes** (str)"
   ]
  },
  {
   "cell_type": "code",
   "execution_count": 18,
   "metadata": {},
   "outputs": [
    {
     "name": "stdout",
     "output_type": "stream",
     "text": [
      "Hien yeu Trung.\n"
     ]
    }
   ],
   "source": [
    "x = 'Hien '\n",
    "y = 'yeu '\n",
    "z = 'Trung.'\n",
    "\n",
    "print(x + y + z)"
   ]
  },
  {
   "cell_type": "markdown",
   "metadata": {},
   "source": [
    "***Note:*** Il est impossible de multiplier les *str*"
   ]
  },
  {
   "cell_type": "code",
   "execution_count": 27,
   "metadata": {},
   "outputs": [
    {
     "name": "stdout",
     "output_type": "stream",
     "text": [
      "ne peut pas être fait\n"
     ]
    }
   ],
   "source": [
    "x = 'Hien '\n",
    "y = 'yeu '\n",
    "z = 'Trung.'\n",
    "\n",
    "try: \n",
    "    A = x*y\n",
    "    print('peut être fait')\n",
    "    print(A,type(A))\n",
    "except:\n",
    "    print('ne peut pas être fait')\n"
   ]
  },
  {
   "cell_type": "markdown",
   "metadata": {},
   "source": [
    "### 3. **Multiplication du type** *str* ***et** *int* "
   ]
  },
  {
   "cell_type": "code",
   "execution_count": 33,
   "metadata": {},
   "outputs": [
    {
     "name": "stdout",
     "output_type": "stream",
     "text": [
      "Hien thi A:  Em yeu anh Em yeu anh Em yeu anh \n"
     ]
    }
   ],
   "source": [
    "x = 'Em yeu anh '\n",
    "y = 3\n",
    "\n",
    "A = x * y\n",
    "print('Hien thi A: ', A)"
   ]
  },
  {
   "cell_type": "markdown",
   "metadata": {},
   "source": [
    "# <center> Types Container: </center>"
   ]
  },
  {
   "cell_type": "markdown",
   "metadata": {},
   "source": [
    "## Listes"
   ]
  },
  {
   "cell_type": "markdown",
   "metadata": {},
   "source": [
    "### 1. Exemple"
   ]
  },
  {
   "cell_type": "code",
   "execution_count": 66,
   "metadata": {},
   "outputs": [
    {
     "name": "stdout",
     "output_type": "stream",
     "text": [
      "['Hien yeu Trung', 3, 'lannnnnnn'] <class 'list'>\n",
      "[1.5, 'cong', 1.5, 'bang', 3, 'la dung hay sai', True] <class 'list'>\n"
     ]
    }
   ],
   "source": [
    "x = ['Hien yeu Trung', 3 , 'lannnnnnn']\n",
    "y = [1.5 , 'cong', 1.5 , 'bang', 3 , 'la dung hay sai', True]\n",
    "\n",
    "print(x, type(x))\n",
    "print(y,type(y))"
   ]
  },
  {
   "cell_type": "markdown",
   "metadata": {},
   "source": [
    "### 2. La **longeur** d'un objet de type *liste*: ***len(x)***"
   ]
  },
  {
   "cell_type": "code",
   "execution_count": 40,
   "metadata": {},
   "outputs": [
    {
     "name": "stdout",
     "output_type": "stream",
     "text": [
      "['Hien yeu Trung', 3000, 'lannnnnnn']\n",
      "3\n",
      "Pour obtenir le nombre d'éléments dans x: \n",
      "On utilise la function len(x)\n",
      "Le nombre d'éléments dans x est 3\n"
     ]
    }
   ],
   "source": [
    "print(x)\n",
    "print(len(x))\n",
    "\n",
    "print('Pour obtenir le nombre d\\'éléments dans x: ')\n",
    "print('On utilise la function len(x)')\n",
    "\n",
    "print(f'Le nombre d\\'éléments dans x est {len(x)}')"
   ]
  },
  {
   "cell_type": "markdown",
   "metadata": {},
   "source": [
    "### 3. Les **indices** de listes"
   ]
  },
  {
   "cell_type": "code",
   "execution_count": 72,
   "metadata": {},
   "outputs": [
    {
     "name": "stdout",
     "output_type": "stream",
     "text": [
      "['Hien yeu Trung', 4, 'lannnnnnn', 'moah moah moah', 'moah moah moah', 'moah moah moah']\n",
      "[1.5, 'cong', 1.5, 'chaînes de caractère', 3, 'la dung hay sai', True]\n",
      "moah moah moah\n"
     ]
    }
   ],
   "source": [
    "x[1] = 4\n",
    "y[3] = 'chaînes de caractère'\n",
    "\n",
    "print(x)\n",
    "print(y)\n",
    "\n",
    "print(x[-1])    #x[-1] est le dernier élément"
   ]
  },
  {
   "cell_type": "markdown",
   "metadata": {},
   "source": [
    "#### *Ajouter* un novel élément à la *fin* de la liste\n",
    "***Note:*** x.**append**('   ')"
   ]
  },
  {
   "cell_type": "code",
   "execution_count": 70,
   "metadata": {},
   "outputs": [
    {
     "name": "stdout",
     "output_type": "stream",
     "text": [
      "['Hien yeu Trung', 4, 'lannnnnnn', 'moah moah moah', 'moah moah moah', 'moah moah moah']\n"
     ]
    }
   ],
   "source": [
    "x.append('moah moah moah')\n",
    "print(x)\n"
   ]
  },
  {
   "cell_type": "code",
   "execution_count": null,
   "metadata": {},
   "outputs": [],
   "source": []
  },
  {
   "cell_type": "code",
   "execution_count": null,
   "metadata": {},
   "outputs": [],
   "source": []
  },
  {
   "cell_type": "code",
   "execution_count": null,
   "metadata": {},
   "outputs": [],
   "source": []
  },
  {
   "cell_type": "code",
   "execution_count": null,
   "metadata": {},
   "outputs": [],
   "source": []
  },
  {
   "cell_type": "code",
   "execution_count": null,
   "metadata": {},
   "outputs": [],
   "source": []
  },
  {
   "cell_type": "code",
   "execution_count": null,
   "metadata": {},
   "outputs": [],
   "source": []
  },
  {
   "cell_type": "code",
   "execution_count": null,
   "metadata": {},
   "outputs": [],
   "source": []
  },
  {
   "cell_type": "code",
   "execution_count": null,
   "metadata": {},
   "outputs": [],
   "source": []
  },
  {
   "cell_type": "code",
   "execution_count": null,
   "metadata": {},
   "outputs": [],
   "source": []
  },
  {
   "cell_type": "markdown",
   "metadata": {},
   "source": [
    "## Slicing"
   ]
  },
  {
   "cell_type": "code",
   "execution_count": 74,
   "metadata": {},
   "outputs": [
    {
     "name": "stdout",
     "output_type": "stream",
     "text": [
      "[12, 4, 6, 8, 4, 9, 10, 45, 67] <class 'list'>\n",
      "Les 4 premiers éléments est x[0:4]\n"
     ]
    }
   ],
   "source": [
    "x = [12,4,6,8,4,9,10,45,67]\n",
    "\n",
    "print(x,type(x))\n",
    "\n",
    "print(f'Les 4 premiers éléments est {x[0:4]')"
   ]
  }
 ],
 "metadata": {
  "kernelspec": {
   "display_name": "Python 3.10.6 ('requirements')",
   "language": "python",
   "name": "python3"
  },
  "language_info": {
   "codemirror_mode": {
    "name": "ipython",
    "version": 3
   },
   "file_extension": ".py",
   "mimetype": "text/x-python",
   "name": "python",
   "nbconvert_exporter": "python",
   "pygments_lexer": "ipython3",
   "version": "3.10.6"
  },
  "orig_nbformat": 4,
  "vscode": {
   "interpreter": {
    "hash": "79582aae0486951d69e91f7a5f05887df6e3eec7cf4ba49de7570777752eed2c"
   }
  }
 },
 "nbformat": 4,
 "nbformat_minor": 2
}
